{
 "cells": [
  {
   "cell_type": "code",
   "execution_count": 1,
   "metadata": {
    "id": "J8o87Nd_JWk_"
   },
   "outputs": [],
   "source": [
    "import warnings\n",
    "warnings.filterwarnings(\"ignore\")\n",
    "import pandas as pd\n",
    "import re\n",
    "import numpy as np\n",
    "import pickle\n",
    "import matplotlib.pyplot as plt\n",
    "from tqdm import tqdm\n",
    "import os\n",
    "import seaborn as sns"
   ]
  },
  {
   "cell_type": "code",
   "execution_count": 2,
   "metadata": {
    "id": "15L_oJai5IAI"
   },
   "outputs": [],
   "source": [
    "from keras.applications.xception import Xception, preprocess_input\n",
    "from keras.preprocessing.image import load_img, img_to_array\n",
    "from PIL import Image"
   ]
  },
  {
   "cell_type": "code",
   "execution_count": 3,
   "metadata": {
    "colab": {
     "base_uri": "https://localhost:8080/"
    },
    "id": "ya73_C3A2Nb5",
    "outputId": "07265c7c-4845-4b79-9932-61e8db88b90e"
   },
   "outputs": [
    {
     "name": "stdout",
     "output_type": "stream",
     "text": [
      "Drive already mounted at /content/drive; to attempt to forcibly remount, call drive.mount(\"/content/drive\", force_remount=True).\n"
     ]
    }
   ],
   "source": [
    "from google.colab import drive\n",
    "drive.mount('/content/drive')"
   ]
  },
  {
   "cell_type": "code",
   "execution_count": 4,
   "metadata": {
    "id": "RLKg1JjRZO-K"
   },
   "outputs": [],
   "source": [
    "path='/content/drive/MyDrive/ Image_captioning/ text_dataset/Flickr8k_text/Flickr8k.token.txt'\n",
    "with open(path) as f:\n",
    "    lines=f.readlines()"
   ]
  },
  {
   "cell_type": "code",
   "execution_count": 5,
   "metadata": {
    "id": "Z12ptiFoZO-M"
   },
   "outputs": [],
   "source": [
    "#seperating images and text discriptions\n",
    "image=[];text=[]\n",
    "for i in lines:\n",
    "    image_= i.split(\"\\t\")[0]\n",
    "    image_= re.sub(\"#[0-9]\",\"\",image_)\n",
    "    image.append(image_)\n",
    "    text_= i.split(\"\\t\")[1]\n",
    "    text_ = re.sub(\" .\\n\",\"\",text_)\n",
    "    text.append(text_)"
   ]
  },
  {
   "cell_type": "code",
   "execution_count": 6,
   "metadata": {
    "colab": {
     "base_uri": "https://localhost:8080/",
     "height": 202
    },
    "id": "11obiF-eZO-O",
    "outputId": "c2a24ceb-3b72-4d8b-a01b-42f70cf629ac"
   },
   "outputs": [
    {
     "data": {
      "text/html": [
       "<div>\n",
       "<style scoped>\n",
       "    .dataframe tbody tr th:only-of-type {\n",
       "        vertical-align: middle;\n",
       "    }\n",
       "\n",
       "    .dataframe tbody tr th {\n",
       "        vertical-align: top;\n",
       "    }\n",
       "\n",
       "    .dataframe thead th {\n",
       "        text-align: right;\n",
       "    }\n",
       "</style>\n",
       "<table border=\"1\" class=\"dataframe\">\n",
       "  <thead>\n",
       "    <tr style=\"text-align: right;\">\n",
       "      <th></th>\n",
       "      <th>image</th>\n",
       "      <th>text</th>\n",
       "    </tr>\n",
       "  </thead>\n",
       "  <tbody>\n",
       "    <tr>\n",
       "      <th>0</th>\n",
       "      <td>1000268201_693b08cb0e.jpg</td>\n",
       "      <td>A child in a pink dress is climbing up a set o...</td>\n",
       "    </tr>\n",
       "    <tr>\n",
       "      <th>1</th>\n",
       "      <td>1000268201_693b08cb0e.jpg</td>\n",
       "      <td>A girl going into a wooden building</td>\n",
       "    </tr>\n",
       "    <tr>\n",
       "      <th>2</th>\n",
       "      <td>1000268201_693b08cb0e.jpg</td>\n",
       "      <td>A little girl climbing into a wooden playhouse</td>\n",
       "    </tr>\n",
       "    <tr>\n",
       "      <th>3</th>\n",
       "      <td>1000268201_693b08cb0e.jpg</td>\n",
       "      <td>A little girl climbing the stairs to her playh...</td>\n",
       "    </tr>\n",
       "    <tr>\n",
       "      <th>4</th>\n",
       "      <td>1000268201_693b08cb0e.jpg</td>\n",
       "      <td>A little girl in a pink dress going into a woo...</td>\n",
       "    </tr>\n",
       "  </tbody>\n",
       "</table>\n",
       "</div>"
      ],
      "text/plain": [
       "                       image                                               text\n",
       "0  1000268201_693b08cb0e.jpg  A child in a pink dress is climbing up a set o...\n",
       "1  1000268201_693b08cb0e.jpg                A girl going into a wooden building\n",
       "2  1000268201_693b08cb0e.jpg     A little girl climbing into a wooden playhouse\n",
       "3  1000268201_693b08cb0e.jpg  A little girl climbing the stairs to her playh...\n",
       "4  1000268201_693b08cb0e.jpg  A little girl in a pink dress going into a woo..."
      ]
     },
     "execution_count": 6,
     "metadata": {
      "tags": []
     },
     "output_type": "execute_result"
    }
   ],
   "source": [
    "d={'image':image,'text':text}\n",
    "df = pd.DataFrame(d, columns = ['image','text'], index=[i for i in range(len(image))])\n",
    "df.head(5)"
   ]
  },
  {
   "cell_type": "code",
   "execution_count": 7,
   "metadata": {
    "id": "a7-3V9WRZO-P"
   },
   "outputs": [],
   "source": [
    "def decontractions(phrase):\n",
    "    phrase = re.sub(r\"won\\'t\", \"will not\", phrase)\n",
    "    phrase = re.sub(r\"can\\'t\", \"can not\", phrase)\n",
    "    phrase = re.sub(r\"n\\'t\", \" not\", phrase)\n",
    "    phrase = re.sub(r\"\\'re\", \" are\", phrase)\n",
    "    phrase = re.sub(r\"\\'s\", \" is\", phrase)\n",
    "    phrase = re.sub(r\"\\'d\", \" would\", phrase)\n",
    "    phrase = re.sub(r\"\\'ll\", \" will\", phrase)\n",
    "    phrase = re.sub(r\"\\'t\", \" not\", phrase)\n",
    "    phrase = re.sub(r\"\\'ve\", \" have\", phrase)\n",
    "    phrase = re.sub(r\"\\'m\", \" am\", phrase)\n",
    "    return phrase"
   ]
  },
  {
   "cell_type": "code",
   "execution_count": 8,
   "metadata": {
    "id": "HWdLjGM-ZO-Q"
   },
   "outputs": [],
   "source": [
    "def preprocess_english(text):\n",
    "    sent=decontractions(text)\n",
    "    sent=re.sub(r\"-\",\"  \",sent)\n",
    "    sent=re.sub(r'[^A-Za-z ]',\"\",sent)\n",
    "    sent = ' '.join(e.lower() for e in sent.split() if len(e)>1)\n",
    "    return sent"
   ]
  },
  {
   "cell_type": "code",
   "execution_count": 9,
   "metadata": {
    "id": "kV-VBT1RZO-Q"
   },
   "outputs": [],
   "source": [
    "df['processed_text']=df['text'].apply(preprocess_english)\n",
    "\n",
    "def find_length(sentence):\n",
    "    return len(sentence.split())\n",
    "df['len_processed_text'] = df['processed_text'].apply(find_length)"
   ]
  },
  {
   "cell_type": "code",
   "execution_count": 10,
   "metadata": {
    "colab": {
     "base_uri": "https://localhost:8080/",
     "height": 297
    },
    "id": "r_EslA_qZO-R",
    "outputId": "d33ae7e1-ba6f-4bbb-c205-16e7a2b9417e"
   },
   "outputs": [
    {
     "data": {
      "text/plain": [
       "<matplotlib.axes._subplots.AxesSubplot at 0x7fd87db11050>"
      ]
     },
     "execution_count": 10,
     "metadata": {
      "tags": []
     },
     "output_type": "execute_result"
    },
    {
     "data": {
      "image/png": "[encoded data removed]",
      "text/plain": [
       "<Figure size 432x288 with 1 Axes>"
      ]
     },
     "metadata": {
      "needs_background": "light",
      "tags": []
     },
     "output_type": "display_data"
    }
   ],
   "source": [
    "sns.histplot(df['len_processed_text'],bins=30)"
   ]
  },
  {
   "cell_type": "code",
   "execution_count": 11,
   "metadata": {
    "colab": {
     "base_uri": "https://localhost:8080/",
     "height": 281
    },
    "id": "k219vQO8ZO-R",
    "outputId": "fd36becc-7a5c-41b6-ee20-2ea39ed9795f"
   },
   "outputs": [
    {
     "data": {
      "image/png": "[encoded data removed]",
      "text/plain": [
       "<Figure size 432x288 with 1 Axes>"
      ]
     },
     "metadata": {
      "needs_background": "light",
      "tags": []
     },
     "output_type": "display_data"
    }
   ],
   "source": [
    "count, bins_count = np.histogram(df['len_processed_text'], bins=30)\n",
    "pdf = count / sum(count)\n",
    "cdf = np.cumsum(pdf)\n",
    "\n",
    "plt.title('PDF and CDF of length of processed text')\n",
    "plt.plot(bins_count[1:], pdf, color=\"red\", label=\"PDF of length of processed text\")\n",
    "plt.plot(bins_count[1:], cdf, label=\"CDF of length of processed text\")\n",
    "plt.legend()\n",
    "plt.grid()"
   ]
  },
  {
   "cell_type": "code",
   "execution_count": 12,
   "metadata": {
    "colab": {
     "base_uri": "https://localhost:8080/"
    },
    "id": "ntmbW_ftZO-S",
    "outputId": "00238ab0-67d7-4bd9-8bfb-0474d67179a5"
   },
   "outputs": [
    {
     "data": {
      "text/plain": [
       "15"
      ]
     },
     "execution_count": 12,
     "metadata": {
      "tags": []
     },
     "output_type": "execute_result"
    }
   ],
   "source": [
    "max_len = int(np.percentile(df['len_processed_text'],95))\n",
    "max_len"
   ]
  },
  {
   "cell_type": "markdown",
   "metadata": {
    "id": "fMY89h87ZO-S"
   },
   "source": [
    "## Observation "
   ]
  },
  {
   "cell_type": "markdown",
   "metadata": {
    "id": "8zBKgWAQZO-T"
   },
   "source": [
    "Most of the discriptions have length less than  20. We can choose suitable percentile range to avoid few lengthy discriptions."
   ]
  },
  {
   "cell_type": "code",
   "execution_count": 13,
   "metadata": {
    "colab": {
     "base_uri": "https://localhost:8080/"
    },
    "id": "SuDBgzovZO-T",
    "outputId": "cd475564-71cd-4d0d-e7bd-011707b05b19",
    "scrolled": true
   },
   "outputs": [
    {
     "data": {
      "text/plain": [
       "(38549, 4)"
      ]
     },
     "execution_count": 13,
     "metadata": {
      "tags": []
     },
     "output_type": "execute_result"
    }
   ],
   "source": [
    "df=df[df['len_processed_text']<=max_len] #data set after consideringonly sentances with length less than max_len\n",
    "df.shape"
   ]
  },
  {
   "cell_type": "code",
   "execution_count": 14,
   "metadata": {
    "colab": {
     "base_uri": "https://localhost:8080/"
    },
    "id": "vV62jnDnZO-T",
    "outputId": "b779bca1-74f5-4f18-a86d-84509a4ea76c"
   },
   "outputs": [
    {
     "data": {
      "text/plain": [
       "38549"
      ]
     },
     "execution_count": 14,
     "metadata": {
      "tags": []
     },
     "output_type": "execute_result"
    }
   ],
   "source": [
    "image_list=list(df['image'])\n",
    "len(image_list)"
   ]
  },
  {
   "cell_type": "code",
   "execution_count": 15,
   "metadata": {
    "colab": {
     "base_uri": "https://localhost:8080/"
    },
    "id": "hWqjNNhdZO-U",
    "outputId": "660a1e0d-9ead-4de8-83b2-ac1896f56d1b"
   },
   "outputs": [
    {
     "data": {
      "text/plain": [
       "8092"
      ]
     },
     "execution_count": 15,
     "metadata": {
      "tags": []
     },
     "output_type": "execute_result"
    }
   ],
   "source": [
    "image_set=set(image_list) #all images\n",
    "len(image_set)"
   ]
  },
  {
   "cell_type": "code",
   "execution_count": 16,
   "metadata": {
    "id": "sF0t-ApXZO-U"
   },
   "outputs": [],
   "source": [
    "d={}\n",
    "for i in image_set:\n",
    "    d[i]=image_list.count(i)"
   ]
  },
  {
   "cell_type": "code",
   "execution_count": 17,
   "metadata": {
    "colab": {
     "base_uri": "https://localhost:8080/"
    },
    "id": "jsC-YcdxZO-V",
    "outputId": "67e2b6c8-a1c7-442e-8d77-194e6be7e060"
   },
   "outputs": [
    {
     "name": "stdout",
     "output_type": "stream",
     "text": [
      "3471571540_b4ab77f20d.jpg -- 2\n",
      "3345025842_bc2082a509.jpg -- 2\n",
      "3256274183_4eab3b2322.jpg -- 2\n",
      "1470536919_1f3fd6c65a.jpg -- 2\n",
      "3191982761_88793192ed.jpg -- 2\n",
      "2731171552_4a808c7d5a.jpg -- 1\n",
      "3327563443_870a33f748.jpg -- 2\n",
      "3229821595_77ace81c6b.jpg -- 2\n",
      "2354456107_bf5c766a05.jpg -- 2\n",
      "972381743_5677b420ab.jpg -- 2\n",
      "2831215155_07ba8f1805.jpg -- 2\n",
      "532457586_bddfc5251d.jpg -- 2\n",
      "2127207912_9298824e66.jpg -- 2\n",
      "3331525712_af1dcc47f2.jpg -- 2\n",
      "2504764590_cf017c2a6e.jpg -- 2\n",
      "2689001252_e0016c89f0.jpg -- 2\n",
      "133189853_811de6ab2a.jpg -- 2\n",
      "2600386812_8790879d9a.jpg -- 2\n",
      "1303548017_47de590273.jpg -- 2\n",
      "2273591668_069dcb4641.jpg -- 2\n",
      "3411393875_a9ff73c67a.jpg -- 2\n",
      "2309860995_c2e2a0feeb.jpg -- 2\n",
      "2894217628_f1a4153dca.jpg -- 2\n",
      "2826769554_85c90864c9.jpg -- 2\n",
      "3082196097_2d15455b00.jpg -- 2\n",
      "3471841031_a949645ba8.jpg -- 2\n"
     ]
    }
   ],
   "source": [
    "#images and count of discriptions\n",
    "for i,j in d.items():\n",
    "    if j<=2:\n",
    "        print(i,\"--\",j)"
   ]
  },
  {
   "cell_type": "markdown",
   "metadata": {
    "id": "Dfrpgla5ZO-V"
   },
   "source": [
    "## Observation"
   ]
  },
  {
   "cell_type": "markdown",
   "metadata": {
    "id": "lI9dD37kZO-V"
   },
   "source": [
    "Even though the max length of processed text is terminated to 15, all the images are present and very few images have discription count of 2 or less than 2 "
   ]
  },
  {
   "cell_type": "code",
   "execution_count": 18,
   "metadata": {
    "id": "RWMHvdAFZO-W"
   },
   "outputs": [],
   "source": [
    "df['input']='<start> '+df['processed_text']+' <end>'\n",
    "df['output']= df['processed_text']+' <end>'+' <end>'"
   ]
  },
  {
   "cell_type": "code",
   "execution_count": 19,
   "metadata": {
    "colab": {
     "base_uri": "https://localhost:8080/",
     "height": 303
    },
    "id": "yhUyO8tOZO-W",
    "outputId": "9d86ab35-ed43-4da8-c98b-ea5a2d9434ba"
   },
   "outputs": [
    {
     "name": "stdout",
     "output_type": "stream",
     "text": [
      "(38549, 6)\n"
     ]
    },
    {
     "data": {
      "text/html": [
       "<div>\n",
       "<style scoped>\n",
       "    .dataframe tbody tr th:only-of-type {\n",
       "        vertical-align: middle;\n",
       "    }\n",
       "\n",
       "    .dataframe tbody tr th {\n",
       "        vertical-align: top;\n",
       "    }\n",
       "\n",
       "    .dataframe thead th {\n",
       "        text-align: right;\n",
       "    }\n",
       "</style>\n",
       "<table border=\"1\" class=\"dataframe\">\n",
       "  <thead>\n",
       "    <tr style=\"text-align: right;\">\n",
       "      <th></th>\n",
       "      <th>image</th>\n",
       "      <th>text</th>\n",
       "      <th>processed_text</th>\n",
       "      <th>len_processed_text</th>\n",
       "      <th>input</th>\n",
       "      <th>output</th>\n",
       "    </tr>\n",
       "  </thead>\n",
       "  <tbody>\n",
       "    <tr>\n",
       "      <th>0</th>\n",
       "      <td>1000268201_693b08cb0e.jpg</td>\n",
       "      <td>A child in a pink dress is climbing up a set o...</td>\n",
       "      <td>child in pink dress is climbing up set of stai...</td>\n",
       "      <td>14</td>\n",
       "      <td>&lt;start&gt; child in pink dress is climbing up set...</td>\n",
       "      <td>child in pink dress is climbing up set of stai...</td>\n",
       "    </tr>\n",
       "    <tr>\n",
       "      <th>1</th>\n",
       "      <td>1000268201_693b08cb0e.jpg</td>\n",
       "      <td>A girl going into a wooden building</td>\n",
       "      <td>girl going into wooden building</td>\n",
       "      <td>5</td>\n",
       "      <td>&lt;start&gt; girl going into wooden building &lt;end&gt;</td>\n",
       "      <td>girl going into wooden building &lt;end&gt; &lt;end&gt;</td>\n",
       "    </tr>\n",
       "    <tr>\n",
       "      <th>2</th>\n",
       "      <td>1000268201_693b08cb0e.jpg</td>\n",
       "      <td>A little girl climbing into a wooden playhouse</td>\n",
       "      <td>little girl climbing into wooden playhouse</td>\n",
       "      <td>6</td>\n",
       "      <td>&lt;start&gt; little girl climbing into wooden playh...</td>\n",
       "      <td>little girl climbing into wooden playhouse &lt;en...</td>\n",
       "    </tr>\n",
       "    <tr>\n",
       "      <th>3</th>\n",
       "      <td>1000268201_693b08cb0e.jpg</td>\n",
       "      <td>A little girl climbing the stairs to her playh...</td>\n",
       "      <td>little girl climbing the stairs to her playhouse</td>\n",
       "      <td>8</td>\n",
       "      <td>&lt;start&gt; little girl climbing the stairs to her...</td>\n",
       "      <td>little girl climbing the stairs to her playhou...</td>\n",
       "    </tr>\n",
       "    <tr>\n",
       "      <th>4</th>\n",
       "      <td>1000268201_693b08cb0e.jpg</td>\n",
       "      <td>A little girl in a pink dress going into a woo...</td>\n",
       "      <td>little girl in pink dress going into wooden cabin</td>\n",
       "      <td>9</td>\n",
       "      <td>&lt;start&gt; little girl in pink dress going into w...</td>\n",
       "      <td>little girl in pink dress going into wooden ca...</td>\n",
       "    </tr>\n",
       "  </tbody>\n",
       "</table>\n",
       "</div>"
      ],
      "text/plain": [
       "                       image  ...                                             output\n",
       "0  1000268201_693b08cb0e.jpg  ...  child in pink dress is climbing up set of stai...\n",
       "1  1000268201_693b08cb0e.jpg  ...        girl going into wooden building <end> <end>\n",
       "2  1000268201_693b08cb0e.jpg  ...  little girl climbing into wooden playhouse <en...\n",
       "3  1000268201_693b08cb0e.jpg  ...  little girl climbing the stairs to her playhou...\n",
       "4  1000268201_693b08cb0e.jpg  ...  little girl in pink dress going into wooden ca...\n",
       "\n",
       "[5 rows x 6 columns]"
      ]
     },
     "execution_count": 19,
     "metadata": {
      "tags": []
     },
     "output_type": "execute_result"
    }
   ],
   "source": [
    "print(df.shape)\n",
    "df.head(5)"
   ]
  },
  {
   "cell_type": "code",
   "execution_count": 20,
   "metadata": {
    "id": "dPTZthu6ZO-W"
   },
   "outputs": [],
   "source": [
    "df=df[['image','input','output']] #storing required columns after preprocessing\n",
    "df.to_csv('/content/drive/MyDrive/ Image_captioning/data.csv',index=False)"
   ]
  },
  {
   "cell_type": "code",
   "execution_count": 21,
   "metadata": {
    "colab": {
     "base_uri": "https://localhost:8080/",
     "height": 220
    },
    "id": "JofvGxoHZO-X",
    "outputId": "7e7e4220-bbd9-4ee2-cb47-6b46aff06925"
   },
   "outputs": [
    {
     "name": "stdout",
     "output_type": "stream",
     "text": [
      "(38549, 3)\n"
     ]
    },
    {
     "data": {
      "text/html": [
       "<div>\n",
       "<style scoped>\n",
       "    .dataframe tbody tr th:only-of-type {\n",
       "        vertical-align: middle;\n",
       "    }\n",
       "\n",
       "    .dataframe tbody tr th {\n",
       "        vertical-align: top;\n",
       "    }\n",
       "\n",
       "    .dataframe thead th {\n",
       "        text-align: right;\n",
       "    }\n",
       "</style>\n",
       "<table border=\"1\" class=\"dataframe\">\n",
       "  <thead>\n",
       "    <tr style=\"text-align: right;\">\n",
       "      <th></th>\n",
       "      <th>image</th>\n",
       "      <th>input</th>\n",
       "      <th>output</th>\n",
       "    </tr>\n",
       "  </thead>\n",
       "  <tbody>\n",
       "    <tr>\n",
       "      <th>0</th>\n",
       "      <td>1000268201_693b08cb0e.jpg</td>\n",
       "      <td>&lt;start&gt; child in pink dress is climbing up set...</td>\n",
       "      <td>child in pink dress is climbing up set of stai...</td>\n",
       "    </tr>\n",
       "    <tr>\n",
       "      <th>1</th>\n",
       "      <td>1000268201_693b08cb0e.jpg</td>\n",
       "      <td>&lt;start&gt; girl going into wooden building &lt;end&gt;</td>\n",
       "      <td>girl going into wooden building &lt;end&gt; &lt;end&gt;</td>\n",
       "    </tr>\n",
       "    <tr>\n",
       "      <th>2</th>\n",
       "      <td>1000268201_693b08cb0e.jpg</td>\n",
       "      <td>&lt;start&gt; little girl climbing into wooden playh...</td>\n",
       "      <td>little girl climbing into wooden playhouse &lt;en...</td>\n",
       "    </tr>\n",
       "    <tr>\n",
       "      <th>3</th>\n",
       "      <td>1000268201_693b08cb0e.jpg</td>\n",
       "      <td>&lt;start&gt; little girl climbing the stairs to her...</td>\n",
       "      <td>little girl climbing the stairs to her playhou...</td>\n",
       "    </tr>\n",
       "    <tr>\n",
       "      <th>4</th>\n",
       "      <td>1000268201_693b08cb0e.jpg</td>\n",
       "      <td>&lt;start&gt; little girl in pink dress going into w...</td>\n",
       "      <td>little girl in pink dress going into wooden ca...</td>\n",
       "    </tr>\n",
       "  </tbody>\n",
       "</table>\n",
       "</div>"
      ],
      "text/plain": [
       "                       image  ...                                             output\n",
       "0  1000268201_693b08cb0e.jpg  ...  child in pink dress is climbing up set of stai...\n",
       "1  1000268201_693b08cb0e.jpg  ...        girl going into wooden building <end> <end>\n",
       "2  1000268201_693b08cb0e.jpg  ...  little girl climbing into wooden playhouse <en...\n",
       "3  1000268201_693b08cb0e.jpg  ...  little girl climbing the stairs to her playhou...\n",
       "4  1000268201_693b08cb0e.jpg  ...  little girl in pink dress going into wooden ca...\n",
       "\n",
       "[5 rows x 3 columns]"
      ]
     },
     "execution_count": 21,
     "metadata": {
      "tags": []
     },
     "output_type": "execute_result"
    }
   ],
   "source": [
    "df_p=pd.read_csv('/content/drive/MyDrive/ Image_captioning/data.csv')\n",
    "print(df_p.shape)\n",
    "df_p.head()"
   ]
  },
  {
   "cell_type": "code",
   "execution_count": 22,
   "metadata": {
    "id": "9v-C7d5o3Lzj"
   },
   "outputs": [],
   "source": [
    "path='/content/drive/MyDrive/ Image_captioning/ image_dataset/Flicker8k_Dataset'"
   ]
  },
  {
   "cell_type": "code",
   "execution_count": 23,
   "metadata": {
    "colab": {
     "base_uri": "https://localhost:8080/"
    },
    "id": "pQRm5pz97jWh",
    "outputId": "95df6de2-8b13-4f01-e5b2-8546c93f4168"
   },
   "outputs": [
    {
     "name": "stderr",
     "output_type": "stream",
     "text": [
      "100%|██████████| 8091/8091 [50:40<00:00,  2.66it/s]\n"
     ]
    }
   ],
   "source": [
    "def extract_features(directory):\n",
    "        model = Xception( include_top=False, pooling='avg' )\n",
    "        images_list=[];features_list=[] \n",
    "        for img in tqdm(os.listdir(directory)):\n",
    "            filename = directory + \"/\" + img\n",
    "            image = Image.open(filename)\n",
    "            image = image.resize((299,299))\n",
    "            image = np.expand_dims(image, axis=0)\n",
    "            #image = preprocess_input(image)\n",
    "            image = image/127.5\n",
    "            image = image - 1.0\n",
    "\n",
    "            feature = model.predict(image)\n",
    "            images_list.append(img)\n",
    "            features_list.append(feature[0])\n",
    "        return  images_list,features_list \n",
    "\n",
    "#2048 feature vector\n",
    "images_list,features_list = extract_features(path)"
   ]
  },
  {
   "cell_type": "code",
   "execution_count": 24,
   "metadata": {
    "id": "TlmdjgNl56_4"
   },
   "outputs": [],
   "source": [
    "pickle.dump((images_list,features_list),open('/content/drive/MyDrive/ Image_captioning/image_and_feature_1.pkl','wb'))"
   ]
  }
 ],
 "metadata": {
  "accelerator": "GPU",
  "colab": {
   "collapsed_sections": [],
   "name": "Image_captioning_preprocessing.ipynb",
   "provenance": []
  },
  "kernelspec": {
   "display_name": "Python 3",
   "language": "python",
   "name": "python3"
  },
  "language_info": {
   "codemirror_mode": {
    "name": "ipython",
    "version": 3
   },
   "file_extension": ".py",
   "mimetype": "text/x-python",
   "name": "python",
   "nbconvert_exporter": "python",
   "pygments_lexer": "ipython3",
   "version": "3.7.3"
  }
 },
 "nbformat": 4,
 "nbformat_minor": 1
}
